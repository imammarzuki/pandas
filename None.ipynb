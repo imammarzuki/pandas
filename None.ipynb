{
  "nbformat": 4,
  "nbformat_minor": 0,
  "metadata": {
    "colab": {
      "provenance": [],
      "authorship_tag": "ABX9TyOqFBFms369acys+DEaOVwh"
    },
    "kernelspec": {
      "name": "python3",
      "display_name": "Python 3"
    },
    "language_info": {
      "name": "python"
    }
  },
  "cells": [
    {
      "cell_type": "markdown",
      "source": [
        "None dengan huruf besar N, type data ini untuk mendefinisikan nilai Nul, digunakan untuk menunjukan tidak adanya value dari sebuah variable."
      ],
      "metadata": {
        "id": "Hvr7zVQ23BIy"
      }
    },
    {
      "cell_type": "markdown",
      "source": [
        "Gunakan is operator untuk mencek apakah sebuah objek atau variable adalah None."
      ],
      "metadata": {
        "id": "bTSAET953Mc-"
      }
    },
    {
      "cell_type": "code",
      "execution_count": null,
      "metadata": {
        "id": "O0MwTpXn1oW9"
      },
      "outputs": [],
      "source": [
        "None"
      ]
    },
    {
      "cell_type": "code",
      "source": [
        "a=None"
      ],
      "metadata": {
        "id": "E4HjAksU3RN6"
      },
      "execution_count": 1,
      "outputs": []
    },
    {
      "cell_type": "code",
      "source": [
        "a is None"
      ],
      "metadata": {
        "colab": {
          "base_uri": "https://localhost:8080/"
        },
        "id": "RoVyXTes3667",
        "outputId": "b2933dd2-e998-4e5c-cee5-33b57b6590b7"
      },
      "execution_count": 2,
      "outputs": [
        {
          "output_type": "execute_result",
          "data": {
            "text/plain": [
              "True"
            ]
          },
          "metadata": {},
          "execution_count": 2
        }
      ]
    }
  ]
}