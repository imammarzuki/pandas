{
  "nbformat": 4,
  "nbformat_minor": 0,
  "metadata": {
    "colab": {
      "provenance": [],
      "authorship_tag": "ABX9TyM9k5GAtrdv6HNcdWa6Ta1A",
      "include_colab_link": true
    },
    "kernelspec": {
      "name": "python3",
      "display_name": "Python 3"
    },
    "language_info": {
      "name": "python"
    }
  },
  "cells": [
    {
      "cell_type": "markdown",
      "metadata": {
        "id": "view-in-github",
        "colab_type": "text"
      },
      "source": [
        "<a href=\"https://colab.research.google.com/github/imammarzuki/pandas/blob/main/DataDuplikat.ipynb\" target=\"_parent\"><img src=\"https://colab.research.google.com/assets/colab-badge.svg\" alt=\"Open In Colab\"/></a>"
      ]
    },
    {
      "cell_type": "code",
      "execution_count": null,
      "metadata": {
        "colab": {
          "base_uri": "https://localhost:8080/"
        },
        "id": "gYjMBYgFqYgQ",
        "outputId": "b68260f8-a4d9-4eac-ee13-d7b47ff6a44c"
      },
      "outputs": [
        {
          "output_type": "stream",
          "name": "stdout",
          "text": [
            "DataFrame Awal:\n",
            "   Place_Id     Name  Rating\n",
            "0       101  Place A     4.5\n",
            "1       102  Place B     4.0\n",
            "2       103  Place C     3.5\n",
            "3       101  Place A     4.5\n",
            "4       104  Place D     4.0\n",
            "5       105  Place E     3.5\n",
            "6       103  Place C     3.5\n"
          ]
        }
      ],
      "source": [
        "import pandas as pd\n",
        "\n",
        "# Membuat DataFrame\n",
        "data = {\n",
        "    'Place_Id': [101, 102, 103, 101, 104, 105, 103],\n",
        "    'Name': ['Place A', 'Place B', 'Place C', 'Place A', 'Place D', 'Place E', 'Place C'],\n",
        "    'Rating': [4.5, 4.0, 3.5, 4.5, 4.0, 3.5, 3.5]\n",
        "}\n",
        "df = pd.DataFrame(data)\n",
        "print(\"DataFrame Awal:\")\n",
        "print(df)\n",
        "\n",
        "\n"
      ]
    },
    {
      "cell_type": "code",
      "source": [
        "# Mendeteksi dan menampilkan duplikat\n",
        "duplicates = df.duplicated()\n",
        "print(\"\\nDuplikat dalam DataFrame:\")\n",
        "print(duplicates)\n",
        "print(\"\\nBaris Duplikat:\")\n",
        "print(df[duplicates])\n",
        "\n"
      ],
      "metadata": {
        "colab": {
          "base_uri": "https://localhost:8080/"
        },
        "id": "LvAZgk1Aqlji",
        "outputId": "953d2a98-a1ca-4562-86e1-331f8da8c551"
      },
      "execution_count": null,
      "outputs": [
        {
          "output_type": "stream",
          "name": "stdout",
          "text": [
            "\n",
            "Duplikat dalam DataFrame:\n",
            "0    False\n",
            "1    False\n",
            "2    False\n",
            "3     True\n",
            "4    False\n",
            "5    False\n",
            "6     True\n",
            "dtype: bool\n",
            "\n",
            "Baris Duplikat:\n",
            "   Place_Id     Name  Rating\n",
            "3       101  Place A     4.5\n",
            "6       103  Place C     3.5\n"
          ]
        }
      ]
    },
    {
      "cell_type": "code",
      "source": [
        "# Menghapus duplikat\n",
        "df_cleaned = df.drop_duplicates()\n",
        "print(\"\\nDataFrame setelah menghapus duplikat:\")\n",
        "print(df_cleaned)\n",
        "\n"
      ],
      "metadata": {
        "colab": {
          "base_uri": "https://localhost:8080/"
        },
        "id": "irl5nRfvqoXR",
        "outputId": "82c8a709-e0bd-4298-828d-2707fa1f7d08"
      },
      "execution_count": null,
      "outputs": [
        {
          "output_type": "stream",
          "name": "stdout",
          "text": [
            "\n",
            "DataFrame setelah menghapus duplikat:\n",
            "   Place_Id     Name  Rating\n",
            "0       101  Place A     4.5\n",
            "1       102  Place B     4.0\n",
            "2       103  Place C     3.5\n",
            "4       104  Place D     4.0\n",
            "5       105  Place E     3.5\n"
          ]
        }
      ]
    },
    {
      "cell_type": "code",
      "source": [
        "# Duplikat berdasarkan 'Place_Id'\n",
        "duplicate_place_ids = df.duplicated(subset=['Place_Id'])\n",
        "print(\"\\nDuplikat berdasarkan 'Place_Id':\")\n",
        "print(duplicate_place_ids)\n",
        "df_cleaned_by_place_id = df.drop_duplicates(subset=['Place_Id'])\n",
        "print(\"\\nDataFrame setelah menghapus duplikat berdasarkan 'Place_Id':\")\n",
        "print(df_cleaned_by_place_id)"
      ],
      "metadata": {
        "colab": {
          "base_uri": "https://localhost:8080/"
        },
        "id": "W58aCP9VqqfV",
        "outputId": "b6f97c7b-df5d-4341-9ca8-517bed066e7d"
      },
      "execution_count": null,
      "outputs": [
        {
          "output_type": "stream",
          "name": "stdout",
          "text": [
            "\n",
            "Duplikat berdasarkan 'Place_Id':\n",
            "0    False\n",
            "1    False\n",
            "2    False\n",
            "3     True\n",
            "4    False\n",
            "5    False\n",
            "6     True\n",
            "dtype: bool\n",
            "\n",
            "DataFrame setelah menghapus duplikat berdasarkan 'Place_Id':\n",
            "   Place_Id     Name  Rating\n",
            "0       101  Place A     4.5\n",
            "1       102  Place B     4.0\n",
            "2       103  Place C     3.5\n",
            "4       104  Place D     4.0\n",
            "5       105  Place E     3.5\n"
          ]
        }
      ]
    }
  ]
}