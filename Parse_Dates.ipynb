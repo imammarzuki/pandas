{
  "nbformat": 4,
  "nbformat_minor": 0,
  "metadata": {
    "colab": {
      "provenance": [],
      "mount_file_id": "1amShuWmIv6DnzbvN0NUFnAeFAdDEggwW",
      "authorship_tag": "ABX9TyOUvKbDsGf0OV1sfG/lF3Rm"
    },
    "kernelspec": {
      "name": "python3",
      "display_name": "Python 3"
    },
    "language_info": {
      "name": "python"
    }
  },
  "cells": [
    {
      "cell_type": "code",
      "source": [
        "from google.colab import drive\n",
        "drive.mount('/content/drive')"
      ],
      "metadata": {
        "colab": {
          "base_uri": "https://localhost:8080/"
        },
        "id": "GXkAz1J5COOa",
        "outputId": "d0bc2c24-1ef2-49d8-85cd-620051c2e597"
      },
      "execution_count": 1,
      "outputs": [
        {
          "output_type": "stream",
          "name": "stdout",
          "text": [
            "Drive already mounted at /content/drive; to attempt to forcibly remount, call drive.mount(\"/content/drive\", force_remount=True).\n"
          ]
        }
      ]
    },
    {
      "cell_type": "markdown",
      "source": [
        "Import library pandas, lalu gunakan read_csv untuk load data. Akan tampil error seperti dibawah."
      ],
      "metadata": {
        "id": "VocNT104Ax8M"
      }
    },
    {
      "cell_type": "code",
      "execution_count": 2,
      "metadata": {
        "id": "wp4oTeRK-HrC",
        "colab": {
          "base_uri": "https://localhost:8080/"
        },
        "outputId": "52f330fe-c0dd-44a2-a8ba-673d12088fc8"
      },
      "outputs": [
        {
          "output_type": "stream",
          "name": "stderr",
          "text": [
            "<ipython-input-2-2960bb1b3e6c>:3: DtypeWarning: Columns (7) have mixed types. Specify dtype option on import or set low_memory=False.\n",
            "  df = pd.read_csv(\"drive/MyDrive/pandas/Data/train.csv\")\n"
          ]
        }
      ],
      "source": [
        "import pandas as pd\n",
        "\n",
        "df = pd.read_csv(\"drive/MyDrive/pandas/Data/train.csv\")"
      ]
    },
    {
      "cell_type": "markdown",
      "source": [
        "Peringatan diatas bisa dimatikan dengan menambahkan parameter low_memory=False."
      ],
      "metadata": {
        "id": "dqwooD4SAxLT"
      }
    },
    {
      "cell_type": "markdown",
      "source": [
        "Error ini terjadi karena pandas berusaha menentukan column dtype."
      ],
      "metadata": {
        "id": "bq1HFs1QAwBF"
      }
    },
    {
      "cell_type": "markdown",
      "source": [
        "Jika Anda check dengan menggunakan fungsi info(), akan terlihat column Date dan StateHoliday memiliki tipe data object."
      ],
      "metadata": {
        "id": "Gt0woNTvCxyq"
      }
    },
    {
      "cell_type": "code",
      "source": [
        "import pandas as pd\n",
        "\n",
        "df = pd.read_csv(\"drive/MyDrive/pandas/Data/train.csv\", low_memory=False)\n",
        "df.info()"
      ],
      "metadata": {
        "id": "rZ7gz7Nb-pdI",
        "colab": {
          "base_uri": "https://localhost:8080/"
        },
        "outputId": "a8f1370b-d915-401c-a96d-ed5432cf7564"
      },
      "execution_count": 3,
      "outputs": [
        {
          "output_type": "stream",
          "name": "stdout",
          "text": [
            "<class 'pandas.core.frame.DataFrame'>\n",
            "RangeIndex: 1017209 entries, 0 to 1017208\n",
            "Data columns (total 9 columns):\n",
            " #   Column         Non-Null Count    Dtype \n",
            "---  ------         --------------    ----- \n",
            " 0   Store          1017209 non-null  int64 \n",
            " 1   DayOfWeek      1017209 non-null  int64 \n",
            " 2   Date           1017209 non-null  object\n",
            " 3   Sales          1017209 non-null  int64 \n",
            " 4   Customers      1017209 non-null  int64 \n",
            " 5   Open           1017209 non-null  int64 \n",
            " 6   Promo          1017209 non-null  int64 \n",
            " 7   StateHoliday   1017209 non-null  object\n",
            " 8   SchoolHoliday  1017209 non-null  int64 \n",
            "dtypes: int64(7), object(2)\n",
            "memory usage: 69.8+ MB\n"
          ]
        }
      ]
    },
    {
      "cell_type": "markdown",
      "source": [
        "Kita dapat gunakan parameter parse_dates=[“nama_kolom_date”] saat read data untuk memberitahu pandas typedata yang digunakan."
      ],
      "metadata": {
        "id": "PkupwiaGzc1B"
      }
    },
    {
      "cell_type": "code",
      "source": [
        "import pandas as pd\n",
        "\n",
        "df = pd.read_csv(\"drive/MyDrive/pandas/Data/train.csv\", low_memory=False, parse_dates=[\"Date\"])\n",
        "df.info()"
      ],
      "metadata": {
        "colab": {
          "base_uri": "https://localhost:8080/"
        },
        "id": "fOxh2Wn_zqsQ",
        "outputId": "bebf2bf9-eba7-4473-f3a2-6cfa73682b5e"
      },
      "execution_count": 4,
      "outputs": [
        {
          "output_type": "stream",
          "name": "stdout",
          "text": [
            "<class 'pandas.core.frame.DataFrame'>\n",
            "RangeIndex: 1017209 entries, 0 to 1017208\n",
            "Data columns (total 9 columns):\n",
            " #   Column         Non-Null Count    Dtype         \n",
            "---  ------         --------------    -----         \n",
            " 0   Store          1017209 non-null  int64         \n",
            " 1   DayOfWeek      1017209 non-null  int64         \n",
            " 2   Date           1017209 non-null  datetime64[ns]\n",
            " 3   Sales          1017209 non-null  int64         \n",
            " 4   Customers      1017209 non-null  int64         \n",
            " 5   Open           1017209 non-null  int64         \n",
            " 6   Promo          1017209 non-null  int64         \n",
            " 7   StateHoliday   1017209 non-null  object        \n",
            " 8   SchoolHoliday  1017209 non-null  int64         \n",
            "dtypes: datetime64[ns](1), int64(7), object(1)\n",
            "memory usage: 69.8+ MB\n"
          ]
        }
      ]
    }
  ]
}